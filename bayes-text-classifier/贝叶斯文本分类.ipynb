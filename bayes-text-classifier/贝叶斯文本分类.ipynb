{
 "cells": [
  {
   "cell_type": "markdown",
   "metadata": {},
   "source": [
    "# 贝叶斯文本分类"
   ]
  },
  {
   "cell_type": "code",
   "execution_count": 1,
   "metadata": {},
   "outputs": [
    {
     "data": {
      "text/plain": [
       "['C000008',\n",
       " 'C000010',\n",
       " 'C000013',\n",
       " 'C000014',\n",
       " 'C000016',\n",
       " 'C000020',\n",
       " 'C000022',\n",
       " 'C000023',\n",
       " 'C000024']"
      ]
     },
     "execution_count": 1,
     "metadata": {},
     "output_type": "execute_result"
    }
   ],
   "source": [
    "import os\n",
    "\n",
    "data_dir = './Sample'\n",
    "folder_list = os.listdir(data_dir)\n",
    "# 分类标签\n",
    "folder_list"
   ]
  },
  {
   "cell_type": "code",
   "execution_count": 2,
   "metadata": {},
   "outputs": [],
   "source": [
    "import jieba\n",
    "\n",
    "stop_words = set()\n",
    "with open('stopwords_cn.txt','r', encoding='utf-8') as f:\n",
    "    for line in f.readlines():\n",
    "        stop_words.add(line.strip())"
   ]
  },
  {
   "cell_type": "code",
   "execution_count": 3,
   "metadata": {},
   "outputs": [
    {
     "name": "stderr",
     "output_type": "stream",
     "text": [
      "Building prefix dict from the default dictionary ...\n",
      "Loading model from cache C:\\Users\\SYMBOL~1\\AppData\\Local\\Temp\\jieba.cache\n",
      "Loading model cost 1.779 seconds.\n",
      "Prefix dict has been built succesfully.\n"
     ]
    }
   ],
   "source": [
    "import random\n",
    "import re\n",
    "content_matrix = []\n",
    "label_matrix = []\n",
    "for folder in folder_list:\n",
    "    new_folder_list = os.path.join(data_dir,folder)\n",
    "    files = os.listdir(new_folder_list)\n",
    "    # 每个分类最多取8个文件，其余文件作为真实的待分类文本\n",
    "    # 这8个文件中又细分为训练集和测试集\n",
    "    for file in files[:8]: \n",
    "        file_path = os.path.join(new_folder_list, file)\n",
    "        with open(file_path, 'r', encoding='utf-8') as f:\n",
    "            # print(folder,f.read()) # 当前文本分类，当前文本内容\n",
    "            content = f.read()\n",
    "        \n",
    "        clean_word_cut = set()\n",
    "        word_cut = jieba.lcut(content)\n",
    "        pattern = re.compile(r'[\\d.%(nbsp)]+') # 过滤数值型数据\n",
    "        clean_word_cut = [word for word in word_cut if word not in stop_words \\\n",
    "                          and not word.isdigit() and word.strip() and len(word.strip()) > 1 and not re.search(pattern, word.strip())]\n",
    "\n",
    "        #print(folder,clean_word_cut)\n",
    "        content_matrix.append(clean_word_cut)\n",
    "        label_matrix.append(folder)\n",
    "\n",
    "content_label_zip = zip(content_matrix,label_matrix)\n",
    "content_label_list = list(content_label_zip)\n",
    "random.shuffle(content_label_list)\n",
    "index = int(len(content_label_list) * 0.8) + 1\n",
    "train_list = content_label_list[:index]\n",
    "test_list = content_label_list[index:]\n",
    "\n",
    "train_word_list, train_label_list = zip(*train_list)\n",
    "test_word_list, test_label_list = zip(*test_list)\n",
    "\n",
    "# 生成特征词词典，注意是以训练集数据生成的！\n",
    "# 此过程目的是整合所有训练集文本特征作为整个数据处理的词袋\n",
    "words_dict = {}\n",
    "for words in train_word_list:\n",
    "    for word in words:\n",
    "        if word in words_dict.keys():\n",
    "            words_dict[word] += 1\n",
    "        else:\n",
    "            words_dict[word] = 1\n",
    "\n",
    "sorted_words_dict = sorted(words_dict.items(), key = lambda x : x[1], reverse=True)\n",
    "feature_words = [word[0] for word in sorted_words_dict]\n",
    "\n",
    "# 以基准特征词为主，用特征词表示训练集的文本信息（即：训练集的文本特征）\n",
    "# 通俗点说就是将文本文档转换成对应的数值型数据，向量化阶段\n",
    "train_feature_list = []\n",
    "for text in train_word_list:\n",
    "    text_words = set(text)\n",
    "    train_feature_list.append([1 if word in text_words else 0 for word in feature_words])\n"
   ]
  },
  {
   "cell_type": "code",
   "execution_count": 4,
   "metadata": {},
   "outputs": [
    {
     "name": "stdout",
     "output_type": "stream",
     "text": [
      "0.571428571429\n",
      "[('C000008', 'C000010'), ('C000010', 'C000013'), ('C000016', 'C000016'), ('C000008', 'C000022'), ('C000016', 'C000016'), ('C000020', 'C000022'), ('C000023', 'C000023'), ('C000020', 'C000020'), ('C000020', 'C000020'), ('C000023', 'C000023'), ('C000010', 'C000010'), ('C000008', 'C000023'), ('C000008', 'C000013'), ('C000024', 'C000024')]\n"
     ]
    }
   ],
   "source": [
    "import sklearn\n",
    "from sklearn.naive_bayes import MultinomialNB\n",
    "\n",
    "# 测试集的文本特征\n",
    "test_feature_list = []\n",
    "for text in test_word_list:\n",
    "    text_words = set(text)\n",
    "    test_feature_list.append([1 if word in text_words else 0 for word in feature_words])\n",
    "    \n",
    "classifier = MultinomialNB().fit(train_feature_list, train_label_list)\n",
    "# 分类器的准确率\n",
    "print(classifier.score(test_feature_list, test_label_list))\n",
    "# 预测类别 VS 实际类别\n",
    "print(list(zip(classifier.predict(test_feature_list), test_label_list)))"
   ]
  },
  {
   "cell_type": "code",
   "execution_count": 8,
   "metadata": {},
   "outputs": [
    {
     "name": "stdout",
     "output_type": "stream",
     "text": [
      "['C000022']\n"
     ]
    }
   ],
   "source": [
    "# 注意 new_word_list 格式问题：二维列表，同理，new_feature_list 也是二维列表\n",
    "new_word_list = [\n",
    "    ['互联网','IT']\n",
    "]\n",
    "new_feature_list = []\n",
    "for text in new_word_list:\n",
    "    text_words = set(text)\n",
    "    new_feature_list.append([1 if word in text_words else 0 for word in feature_words])\n",
    "print(classifier.predict(new_feature_list))"
   ]
  },
  {
   "cell_type": "raw",
   "metadata": {},
   "source": [
    "$$\\sum_{i=0}^{n}{i}$$"
   ]
  },
  {
   "cell_type": "code",
   "execution_count": null,
   "metadata": {},
   "outputs": [],
   "source": []
  }
 ],
 "metadata": {
  "kernelspec": {
   "display_name": "Python 3",
   "language": "python",
   "name": "python3"
  },
  "language_info": {
   "codemirror_mode": {
    "name": "ipython",
    "version": 3
   },
   "file_extension": ".py",
   "mimetype": "text/x-python",
   "name": "python",
   "nbconvert_exporter": "python",
   "pygments_lexer": "ipython3",
   "version": "3.6.4"
  }
 },
 "nbformat": 4,
 "nbformat_minor": 4
}
