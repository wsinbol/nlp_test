{
 "cells": [
  {
   "cell_type": "markdown",
   "metadata": {},
   "source": [
    "# 手写基于情感字典的情感语义分析"
   ]
  },
  {
   "cell_type": "markdown",
   "metadata": {},
   "source": [
    "### 准备工作："
   ]
  },
  {
   "cell_type": "markdown",
   "metadata": {},
   "source": [
    "加载情感字典"
   ]
  },
  {
   "cell_type": "code",
   "execution_count": 1,
   "metadata": {},
   "outputs": [],
   "source": [
    "import re\n",
    "pos_sentiment_dict, neg_sentiment_dict = {}, {}\n",
    "pattern = re.compile(r'\\s+')\n",
    "with open('./user_dict/positive_dict.txt','r',encoding='utf-8') as f:\n",
    "    for line in f:\n",
    "        result = pattern.split(line.strip())\n",
    "        if len(result) == 2:\n",
    "        # print(result[0], result[1])\n",
    "            pos_sentiment_dict[result[0]] = float(result[1])\n",
    "            \n",
    "with open('./user_dict/negative_dict.txt','r',encoding='utf-8') as f:\n",
    "    for line in f:\n",
    "        result = pattern.split(line.strip())\n",
    "        if len(result) == 2:\n",
    "        # print(result[0], result[1])\n",
    "            neg_sentiment_dict[result[0]] = float(result[1])"
   ]
  },
  {
   "cell_type": "markdown",
   "metadata": {},
   "source": [
    "### 一个短语的情感分析："
   ]
  },
  {
   "cell_type": "code",
   "execution_count": 2,
   "metadata": {},
   "outputs": [
    {
     "name": "stderr",
     "output_type": "stream",
     "text": [
      "Building prefix dict from the default dictionary ...\n",
      "Loading model from cache C:\\Users\\SYMBOL~1\\AppData\\Local\\Temp\\jieba.cache\n",
      "Loading model cost 1.683 seconds.\n",
      "Prefix dict has been built succesfully.\n"
     ]
    }
   ],
   "source": [
    "import jieba.posseg as pseg\n",
    "\n",
    "def pos_or_neg(num):\n",
    "    return '正向情感' if num > 0 else '负向情感'\n",
    "\n",
    "test_sentence = '苹果好吃'\n",
    "words = pseg.lcut(test_sentence) # return jieba.posseg.pair结构：苹果/n"
   ]
  },
  {
   "cell_type": "code",
   "execution_count": 3,
   "metadata": {},
   "outputs": [
    {
     "name": "stdout",
     "output_type": "stream",
     "text": [
      "好吃 v 3.0\n",
      "正向情感\n"
     ]
    }
   ],
   "source": [
    "for word,flag in words:\n",
    "    if word in pos_sentiment_dict:\n",
    "        print(word, flag, pos_sentiment_dict.get(word))\n",
    "        print(pos_or_neg(pos_sentiment_dict.get(word)))"
   ]
  },
  {
   "cell_type": "code",
   "execution_count": 4,
   "metadata": {},
   "outputs": [
    {
     "name": "stdout",
     "output_type": "stream",
     "text": [
      "[pair('苹果', 'n'), pair('不好', 'd')]\n"
     ]
    }
   ],
   "source": [
    "test_sentence = '苹果不好'\n",
    "words = pseg.lcut(test_sentence)\n",
    "print(words)"
   ]
  },
  {
   "cell_type": "code",
   "execution_count": 5,
   "metadata": {},
   "outputs": [
    {
     "name": "stdout",
     "output_type": "stream",
     "text": [
      "不好 d -2.0\n",
      "负向情感\n"
     ]
    }
   ],
   "source": [
    "for word,flag in words:\n",
    "    if word in neg_sentiment_dict:\n",
    "        print(word, flag, neg_sentiment_dict.get(word)*-1)\n",
    "        print(pos_or_neg(neg_sentiment_dict.get(word)*-1))"
   ]
  },
  {
   "cell_type": "markdown",
   "metadata": {},
   "source": [
    "### 第一种情况：只有正负情感两种情况时："
   ]
  },
  {
   "cell_type": "markdown",
   "metadata": {},
   "source": [
    "PS：基于情感字典的情感语义分析实验效果十分依赖情感字典的准确性和完整性！"
   ]
  },
  {
   "cell_type": "code",
   "execution_count": null,
   "metadata": {},
   "outputs": [],
   "source": []
  }
 ],
 "metadata": {
  "kernelspec": {
   "display_name": "Python 3",
   "language": "python",
   "name": "python3"
  },
  "language_info": {
   "codemirror_mode": {
    "name": "ipython",
    "version": 3
   },
   "file_extension": ".py",
   "mimetype": "text/x-python",
   "name": "python",
   "nbconvert_exporter": "python",
   "pygments_lexer": "ipython3",
   "version": "3.6.4"
  }
 },
 "nbformat": 4,
 "nbformat_minor": 4
}
