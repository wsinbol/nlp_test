{
 "cells": [
  {
   "cell_type": "markdown",
   "metadata": {},
   "source": [
    "# 手写基于情感字典的简易情感语义分析"
   ]
  },
  {
   "cell_type": "markdown",
   "metadata": {},
   "source": [
    "### 准备工作："
   ]
  },
  {
   "cell_type": "markdown",
   "metadata": {},
   "source": [
    "加载情感字典"
   ]
  },
  {
   "cell_type": "code",
   "execution_count": 1,
   "metadata": {},
   "outputs": [],
   "source": [
    "import re\n",
    "pos_sentiment_dict, neg_sentiment_dict, adverb_dict, denial_dict = {}, {}, {}, {}\n",
    "pattern = re.compile(r'\\s+')\n",
    "with open('./user_dict/positive_dict.txt','r',encoding='utf-8') as f:\n",
    "    for line in f:\n",
    "        result = pattern.split(line.strip())\n",
    "        if len(result) == 2:\n",
    "        # print(result[0], result[1])\n",
    "            pos_sentiment_dict[result[0]] = float(result[1])\n",
    "            \n",
    "with open('./user_dict/negative_dict.txt','r',encoding='utf-8') as f:\n",
    "    for line in f:\n",
    "        result = pattern.split(line.strip())\n",
    "        if len(result) == 2:\n",
    "        # print(result[0], result[1])\n",
    "            neg_sentiment_dict[result[0]] = float(result[1])\n",
    "            \n",
    "with open('./user_dict/adverb_dict.txt', 'r', encoding='utf-8') as f:\n",
    "    for line in f:\n",
    "        result = pattern.split(line.strip())\n",
    "        if len(result) == 2:\n",
    "        # print(result[0], result[1])\n",
    "            adverb_dict[result[0]] = float(result[1])\n",
    "            \n",
    "with open('./user_dict/denial_dict.txt', 'r', encoding='utf-8') as f:\n",
    "    for line in f:\n",
    "        result = pattern.split(line.strip())\n",
    "        if len(result) == 2:\n",
    "        # print(result[0], result[1])\n",
    "            denial_dict[result[0]] = float(result[1])\n",
    "        "
   ]
  },
  {
   "cell_type": "code",
   "execution_count": 2,
   "metadata": {},
   "outputs": [
    {
     "name": "stderr",
     "output_type": "stream",
     "text": [
      "Building prefix dict from the default dictionary ...\n",
      "Loading model from cache C:\\Users\\SYMBOL~1\\AppData\\Local\\Temp\\jieba.cache\n",
      "Loading model cost 1.786 seconds.\n",
      "Prefix dict has been built succesfully.\n"
     ]
    }
   ],
   "source": [
    "import jieba.posseg as pseg\n",
    "\n",
    "def pos_or_neg(num):\n",
    "    return '正向情感' if num > 0 else '负向情感'\n",
    "\n",
    "test_sentence = '苹果好吃'\n",
    "words = pseg.lcut(test_sentence) # return jieba.posseg.pair结构：苹果/n"
   ]
  },
  {
   "cell_type": "markdown",
   "metadata": {},
   "source": [
    "#### 正向分句情感分析："
   ]
  },
  {
   "cell_type": "code",
   "execution_count": 3,
   "metadata": {},
   "outputs": [
    {
     "name": "stdout",
     "output_type": "stream",
     "text": [
      "好吃 v 3.0\n",
      "正向情感\n"
     ]
    }
   ],
   "source": [
    "for word,flag in words:\n",
    "    if word in pos_sentiment_dict:\n",
    "        print(word, flag, pos_sentiment_dict.get(word))\n",
    "        print(pos_or_neg(pos_sentiment_dict.get(word)))"
   ]
  },
  {
   "cell_type": "markdown",
   "metadata": {},
   "source": [
    "#### 负向分句情感分析的例子："
   ]
  },
  {
   "cell_type": "code",
   "execution_count": 4,
   "metadata": {},
   "outputs": [
    {
     "name": "stdout",
     "output_type": "stream",
     "text": [
      "[pair('苹果', 'n'), pair('不好', 'd')]\n",
      "不好 d -2.0\n",
      "负向情感\n"
     ]
    }
   ],
   "source": [
    "test_sentence = '苹果不好'\n",
    "words = pseg.lcut(test_sentence)\n",
    "print(words)\n",
    "\n",
    "for word,flag in words:\n",
    "    if word in neg_sentiment_dict:\n",
    "        print(word, flag, neg_sentiment_dict.get(word)*-1)\n",
    "        print(pos_or_neg(neg_sentiment_dict.get(word)*-1))"
   ]
  },
  {
   "cell_type": "markdown",
   "metadata": {},
   "source": [
    "#### 正向情感加强：添加副词情况"
   ]
  },
  {
   "cell_type": "code",
   "execution_count": 5,
   "metadata": {},
   "outputs": [
    {
     "data": {
      "text/plain": [
       "[pair('苹果', 'n'), pair('很', 'zg'), pair('好吃', 'v')]"
      ]
     },
     "execution_count": 5,
     "metadata": {},
     "output_type": "execute_result"
    }
   ],
   "source": [
    "test_sentence = '苹果很好吃'\n",
    "words = pseg.lcut(test_sentence)\n",
    "words"
   ]
  },
  {
   "cell_type": "code",
   "execution_count": 6,
   "metadata": {},
   "outputs": [
    {
     "name": "stdout",
     "output_type": "stream",
     "text": [
      "4.75\n"
     ]
    }
   ],
   "source": [
    "score = 0\n",
    "for i in range(len(words)):\n",
    "    # 词性：words[i].flag, 词：words[i].word\n",
    "    if words[i].word in pos_sentiment_dict:\n",
    "        score += pos_sentiment_dict.get(words[i].word)\n",
    "\n",
    "    if words[i].word in adverb_dict:\n",
    "        score += adverb_dict.get(words[i].word)\n",
    "# 3+1.75\n",
    "print(score)"
   ]
  },
  {
   "cell_type": "markdown",
   "metadata": {},
   "source": [
    "**上例采用累加的方式来计算整个语句的分数！**\n",
    "\n",
    "这在“很”、“非常”一类修饰词中确实没问题，但是在“稍微”、“有点”等幅度较轻的修饰词中就存在问题了！\n",
    "举个例子：\n",
    "```\n",
    "中心情感词：好吃 3.0\n",
    "修饰词：很 1.75 有点 0.8\n",
    "```\n",
    "那么\n",
    "```\n",
    "很好吃 3+1.75=4.75\n",
    "有点好吃 3+0.8=3.08\n",
    "```\n",
    "从数值计算角度上“很好吃”和“有点好吃”都是对“好吃”情感的加强，可是实际上“有点好吃”其实是对“好吃”的减弱，所以单纯的累加计算是不准确的。可以采用下述方式：\n",
    "- 乘法计算\n",
    "- 判断修饰词与1的关系，小于1时用减法"
   ]
  },
  {
   "cell_type": "markdown",
   "metadata": {},
   "source": [
    "#### 以情感词为中心的前N个视窗分析："
   ]
  },
  {
   "cell_type": "code",
   "execution_count": 7,
   "metadata": {},
   "outputs": [
    {
     "name": "stdout",
     "output_type": "stream",
     "text": [
      "好 a [pair('要是', 'c'), pair('米饭', 'n'), pair('再', 'd'), pair('多点儿', 'm'), pair('就', 'd'), pair('好', 'a'), pair('了', 'ul')] 5\n",
      "{'key': '好', 'adverb': [], 'denial': [], 'value': 2.0, 'score': 2.0}\n",
      "2.0\n"
     ]
    }
   ],
   "source": [
    "emotion_dict = {}\n",
    "\n",
    "def windows_n_analysis(word, flag, weight, words, position):\n",
    "    '''\n",
    "    word: 情感词\n",
    "    flag：情感词词性\n",
    "    weight:情感词权重\n",
    "    words:子句\n",
    "    position:情感词在子句中的下标\n",
    "    '''\n",
    "    print(word, flag, words, position)\n",
    "    current_weight = weight\n",
    "    \n",
    "    analysis_dict = {\"key\": word, \"adverb\":[], \"denial\":[], \"value\": weight, \"score\":0}\n",
    "    view_window = position - 1\n",
    "    if view_window > -1:\n",
    "        if words[view_window].word in adverb_dict:\n",
    "            adverb = {\"key\": words[view_window].word, \"position\":1, \"value\": adverb_dict.get(words[view_window].word)}\n",
    "            current_weight *= adverb_dict.get(words[view_window].word)\n",
    "            analysis_dict[\"adverb\"].append(adverb)\n",
    "            \n",
    "        if words[view_window].word in denial_dict:\n",
    "            denial = {\"key\": words[view_window].word, \"position\":1, \"value\": denial_dict.get(words[view_window].word)}\n",
    "            current_weight *= -denial_dict.get(words[view_window].word)\n",
    "            analysis_dict[\"denial\"].append(denial)\n",
    "            \n",
    "    view_window = position - 2\n",
    "    if view_window > -1:\n",
    "        if words[view_window].word in adverb_dict:\n",
    "            adverb = {\"key\": words[view_window].word, \"position\":1, \"value\": adverb_dict.get(words[view_window].word)}\n",
    "            current_weight *= adverb_dict.get(words[view_window].word)\n",
    "            analysis_dict[\"adverb\"].append(adverb)\n",
    "            \n",
    "        if words[view_window].word in denial_dict:\n",
    "            denial = {\"key\": words[view_window].word, \"position\":1, \"value\": -denial_dict.get(words[view_window].word)}\n",
    "            current_weight *= -denial_dict.get(words[view_window].word)\n",
    "            analysis_dict[\"denial\"].append(denial)\n",
    "            \n",
    "    analysis_dict[\"score\"] = current_weight\n",
    "    print(analysis_dict)\n",
    "    print(analysis_dict['score'])\n",
    "    \n",
    "test_sentence = '要是米饭再多点儿就好了'\n",
    "words = pseg.lcut(test_sentence)\n",
    "    \n",
    "for i in range(len(words)):\n",
    "    if words[i].word in pos_sentiment_dict:\n",
    "        windows_n_analysis(words[i].word,words[i].flag, pos_sentiment_dict.get(words[i].word), words, i)"
   ]
  },
  {
   "cell_type": "markdown",
   "metadata": {},
   "source": [
    "**PS：只能识别比较简单的分句，诸如“要是...就好了”等句型则需要更高的句法字典**"
   ]
  },
  {
   "cell_type": "markdown",
   "metadata": {},
   "source": [
    "到目前为止，我们看到的都是一句话句子的情感分析，或者说是一个子句的分析。那么一个完整的句子又如何分析呢？\n",
    "\n",
    "原理很简单，将完整的语句按标点分成N个子句，计算每个子句的分数值，求和即可得出整个句子的情感分数值\n",
    "\n",
    "如果句子中同时具有正向情感子句和负向情感子句，分别计算后相减即为最终的句子情感分数值。如“很好吃，但没用”"
   ]
  },
  {
   "cell_type": "markdown",
   "metadata": {},
   "source": [
    "### 特别指出：基于情感字典的情感语义分析效果十分依赖情感字典的准确性、完整性及情感字典分数值的合理性！"
   ]
  }
 ],
 "metadata": {
  "kernelspec": {
   "display_name": "Python 3",
   "language": "python",
   "name": "python3"
  },
  "language_info": {
   "codemirror_mode": {
    "name": "ipython",
    "version": 3
   },
   "file_extension": ".py",
   "mimetype": "text/x-python",
   "name": "python",
   "nbconvert_exporter": "python",
   "pygments_lexer": "ipython3",
   "version": "3.6.4"
  }
 },
 "nbformat": 4,
 "nbformat_minor": 4
}
