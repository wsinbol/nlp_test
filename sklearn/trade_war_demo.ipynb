{
 "cells": [
  {
   "cell_type": "code",
   "execution_count": 1,
   "metadata": {},
   "outputs": [],
   "source": [
    "from time import time\n",
    "\n",
    "from sklearn.feature_extraction.text import TfidfVectorizer, CountVectorizer\n",
    "from sklearn.decomposition import NMF, LatentDirichletAllocation\n",
    "import pandas as pd\n",
    "import jieba\n",
    "from sklearn.cluster import KMeans"
   ]
  },
  {
   "cell_type": "code",
   "execution_count": null,
   "metadata": {},
   "outputs": [],
   "source": [
    "data = pd.read_csv('./pos_weibo_text_score.csv', index_col='id', names=['id','score','content','date','time','device','opt_time'])[:1000]\n",
    "corpus = data['content'].values\n",
    "vectorizer = TfidfVectorizer()\n",
    "word_corpus = []\n",
    "for text in corpus:\n",
    "    word_corpus.append(\" \".join([word for word in jieba.lcut(text) if len(word) > 1 and \\\n",
    "                                 str(word).isalpha() and word not in stop_words]))\n",
    "\n",
    "X = vectorizer.fit_transform(word_corpus)\n",
    "import matplotlib.pyplot as plt\n",
    "distortions = []\n",
    "for i in range(1,11):\n",
    "    km = KMeans(n_clusters=i,init=\"k-means++\",n_init=10,max_iter=100,random_state=0)\n",
    "    km.fit(X)\n",
    "    #获取K-means算法的SSE\n",
    "    distortions.append(km.inertia_)\n",
    "#绘制曲线\n",
    "plt.plot(range(1,11),distortions,marker=\"o\")\n",
    "plt.xlabel(\"num\")\n",
    "plt.ylabel(\"SSE\")\n",
    "plt.show()"
   ]
  },
  {
   "cell_type": "code",
   "execution_count": 2,
   "metadata": {},
   "outputs": [],
   "source": [
    "stop_words = set()\n",
    "with open('stopwords_cn.txt',encoding='utf-8') as rf:\n",
    "    for line in rf:\n",
    "        stop_words.add(line.strip())"
   ]
  },
  {
   "cell_type": "code",
   "execution_count": null,
   "metadata": {},
   "outputs": [],
   "source": [
    "data = pd.read_csv('./weibo_text_score.csv', index_col='id', header=0)\n",
    "corpus = data['content'].values\n",
    "word_corpus = []\n",
    "for text in corpus:\n",
    "    word_corpus.append(\" \".join([word for word in jieba.lcut(text) if len(word) > 1 and \\\n",
    "                                     str(word).isalpha() and word not in stop_words]))\n",
    "vectorizer = TfidfVectorizer()\n",
    "doc_word_fit = vectorizer.fit_transform(word_corpus)\n",
    "feature_names = vectorizer.get_feature_names()"
   ]
  },
  {
   "cell_type": "code",
   "execution_count": 39,
   "metadata": {},
   "outputs": [
    {
     "name": "stderr",
     "output_type": "stream",
     "text": [
      "c:\\users\\administrator\\appdata\\local\\programs\\python\\python36\\lib\\site-packages\\IPython\\core\\interactiveshell.py:3058: DtypeWarning: Columns (0,1,6) have mixed types. Specify dtype option on import or set low_memory=False.\n",
      "  interactivity=interactivity, compiler=compiler, result=result)\n"
     ]
    },
    {
     "name": "stdout",
     "output_type": "stream",
     "text": [
      "Cluster 0: 市场 大豆 指数 行情 价格 中国 板块 增长 万吨 公司\n",
      "Cluster 1: 美方 中国 中方 磋商 美国 关税 经贸 双方 加征 谈判\n",
      "Cluster 2: 美国 关税 特朗普 美联储 降息 加征 经济 黄金 美元 中国\n",
      "Cluster 3: 期权 波动 库存 震荡 持仓量 值为 短期 市场 环比 合约\n",
      "Cluster 4: 中国 美国 华为 经济 企业 国家 发展 世界 一个 稀土\n",
      "Cluster 5: 元吨 万吨 合约 库存 美元 开工率 震荡 检修 现货 万桶\n",
      "Cluster 6: 量化 看好 组合 货币 本周 预期 维持 买入 策略 欧元区\n",
      "-865.561223783779\n"
     ]
    }
   ],
   "source": [
    "data = pd.read_csv('./pos_weibo_text_score.csv', index_col='id', names=['id','score','content','date','time','device','opt_time'])[:1000]\n",
    "corpus = data['content'].values\n",
    "vectorizer = TfidfVectorizer()\n",
    "word_corpus = []\n",
    "for text in corpus:\n",
    "    word_corpus.append(\" \".join([word for word in jieba.lcut(text) if len(word) > 1 and \\\n",
    "                                 str(word).isalpha() and word not in stop_words]))\n",
    "\n",
    "X = vectorizer.fit_transform(word_corpus)\n",
    "true_k = 7\n",
    "km = KMeans(n_clusters=true_k, init='k-means++', max_iter=300, n_init=10)\n",
    "km.fit(X)\n",
    "order_centroids = km.cluster_centers_.argsort()[:, ::-1]\n",
    "terms = vectorizer.get_feature_names()\n",
    "for i in range(true_k):\n",
    "    print(\"Cluster %d:\" % i, end='')\n",
    "    for ind in order_centroids[i, :10]:\n",
    "        print(' %s' % terms[ind], end='')\n",
    "    print()"
   ]
  },
  {
   "cell_type": "code",
   "execution_count": 38,
   "metadata": {},
   "outputs": [
    {
     "data": {
      "image/png": "[encoded data removed]",
      "text/plain": [
       "<Figure size 432x288 with 1 Axes>"
      ]
     },
     "metadata": {
      "needs_background": "light"
     },
     "output_type": "display_data"
    }
   ],
   "source": [
    "import matplotlib.pyplot as plt\n",
    "distortions = []\n",
    "for i in range(1,11):\n",
    "    km = KMeans(n_clusters=i,init=\"k-means++\",n_init=10,max_iter=300,random_state=0)\n",
    "    km.fit(X)\n",
    "    #获取K-means算法的SSE\n",
    "    distortions.append(km.inertia_)\n",
    "#绘制曲线\n",
    "plt.plot(range(1,11),distortions,marker=\"o\")\n",
    "plt.xlabel(\"num\")\n",
    "plt.ylabel(\"SSE\")\n",
    "plt.show()"
   ]
  },
  {
   "cell_type": "code",
   "execution_count": 5,
   "metadata": {
    "scrolled": true
   },
   "outputs": [],
   "source": [
    "doc_word_fit = vectorizer.fit_transform(word_corpus)\n",
    "feature_names = vectorizer.get_feature_names()"
   ]
  },
  {
   "cell_type": "code",
   "execution_count": 7,
   "metadata": {},
   "outputs": [],
   "source": [
    "# 大文本时容易爆内存\n",
    "# doc_word_mat = doc_word_fit.toarray()\n",
    "# for row_index, row in enumerate(doc_word_mat):\n",
    "#     print('No.',row_index)\n",
    "#     print([feature_names[i] for i in row.argsort()[:-11:-1]])"
   ]
  },
  {
   "cell_type": "code",
   "execution_count": 8,
   "metadata": {},
   "outputs": [
    {
     "name": "stdout",
     "output_type": "stream",
     "text": [
      "5.380868663043031e+99\n"
     ]
    }
   ],
   "source": [
    "n_components = 20\n",
    "lda = LatentDirichletAllocation(n_components=n_components, max_iter=5,\n",
    "                                learning_method='online',\n",
    "                                learning_offset=50.,\n",
    "                                random_state=0)\n",
    "def print_top_words(model, feature_names, n_top_words):\n",
    "    for topic_idx, topic in enumerate(model.components_):\n",
    "        message = \"Topic #%d: \" % topic_idx\n",
    "        message += \" \".join([feature_names[i]\n",
    "                             for i in topic.argsort()[:-n_top_words - 1:-1]])\n",
    "        print(message)\n",
    "    print()\n",
    "lda.fit(doc_word_fit)\n",
    "print(lda.perplexity(doc_word_fit))"
   ]
  },
  {
   "cell_type": "code",
   "execution_count": 9,
   "metadata": {},
   "outputs": [
    {
     "data": {
      "text/plain": [
       "\"\\nimport matplotlib.pyplot as plt\\nperplexity_list = []\\nfor i in range(2,n_components):\\n    lda = LatentDirichletAllocation(n_components=i, max_iter=5,\\n                                learning_method='online',\\n                                learning_offset=50.,\\n                                random_state=0)\\n    lda.fit(doc_word_fit)\\n    perplexity_list.append(lda.perplexity(doc_word_fit))\\nplt.plot(list(range(2,n_components)), perplexity_list)\\nplt.show()\\nprint(perplexity_list)\\nprint(min(perplexity_list))\\n\""
      ]
     },
     "execution_count": 9,
     "metadata": {},
     "output_type": "execute_result"
    }
   ],
   "source": [
    "import matplotlib.pyplot as plt\n",
    "perplexity_list = []\n",
    "for i in range(2,n_components):\n",
    "    lda = LatentDirichletAllocation(n_components=i, max_iter=5,\n",
    "                                learning_method='online',\n",
    "                                learning_offset=50.,\n",
    "                                random_state=0)\n",
    "    lda.fit(doc_word_fit)\n",
    "    perplexity_list.append(lda.perplexity(doc_word_fit))\n",
    "plt.plot(list(range(2,n_components)), perplexity_list)\n",
    "plt.show()\n",
    "print(perplexity_list)\n",
    "print(min(perplexity_list))"
   ]
  },
  {
   "cell_type": "code",
   "execution_count": 10,
   "metadata": {},
   "outputs": [
    {
     "name": "stdout",
     "output_type": "stream",
     "text": [
      "Topic #0: 中方 相待 五百强 非法行为 扫货 稳中见 得愈 无一 调仓 荷兰\n",
      "Topic #1: human 文书 旭硝子 更让人 前不久 盘收 夜盘 车用 易于 突破性\n",
      "Topic #2: 深表遗憾 十分重视 可观 挤垮 北美 from 投行 难点 活力 油粕\n",
      "Topic #3: 船队 脱敏 content 材质 母校 太小 样子 决战 封装 将有助\n",
      "Topic #4: 拥有 鸿海 讨论 源于 满意度 politics 发力 预感 并购 背后\n",
      "Topic #5: 期权 中国 库存 市场 震荡 波动 美国 持仓量 现货 价格\n",
      "Topic #6: 中国 激活 货物贸易 上任 受中美 营运 干翻 偏缓 良性 软体\n",
      "Topic #7: 不济 历程 如一国 大开 opencpu 而移 运费 运往 压栏 谭主\n",
      "Topic #8: 偏软 意见 直接对话 启动 到货 山峦 宝卓 之上 充分证明 缴纳\n",
      "Topic #9: 无仓 纽约联邦储备银行 船企在 不周 偶然 质疑 前值 初创 引述 倾向\n",
      "\n"
     ]
    }
   ],
   "source": [
    "lda = LatentDirichletAllocation(n_components=10, max_iter=5,\n",
    "                                learning_method='online',\n",
    "                                learning_offset=50.,\n",
    "                                random_state=0)\n",
    "lda.fit(doc_word_fit)\n",
    "print_top_words(lda, feature_names, 10)"
   ]
  },
  {
   "cell_type": "code",
   "execution_count": null,
   "metadata": {},
   "outputs": [],
   "source": []
  }
 ],
 "metadata": {
  "kernelspec": {
   "display_name": "Python 3",
   "language": "python",
   "name": "python3"
  },
  "language_info": {
   "codemirror_mode": {
    "name": "ipython",
    "version": 3
   },
   "file_extension": ".py",
   "mimetype": "text/x-python",
   "name": "python",
   "nbconvert_exporter": "python",
   "pygments_lexer": "ipython3",
   "version": "3.6.7"
  }
 },
 "nbformat": 4,
 "nbformat_minor": 4
}
