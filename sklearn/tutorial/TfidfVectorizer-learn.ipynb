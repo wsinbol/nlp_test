{
 "cells": [
  {
   "cell_type": "code",
   "execution_count": 1,
   "metadata": {},
   "outputs": [],
   "source": [
    "from sklearn.feature_extraction.text import TfidfVectorizer\n",
    "import numpy as np\n",
    "corpus = [\n",
    "    '我 爱 北京 天安门',\n",
    "    '北京 欢迎 您',\n",
    "    '欢迎 到 北京 来',\n",
    "    '同一个 世界 同一个 梦想'\n",
    "]\n",
    "\n",
    "vectorizer = TfidfVectorizer()"
   ]
  },
  {
   "cell_type": "code",
   "execution_count": 2,
   "metadata": {},
   "outputs": [
    {
     "data": {
      "text/plain": [
       "<4x6 sparse matrix of type '<class 'numpy.float64'>'\n",
       "\twith 9 stored elements in Compressed Sparse Row format>"
      ]
     },
     "execution_count": 2,
     "metadata": {},
     "output_type": "execute_result"
    }
   ],
   "source": [
    "# Learn vocabulary and idf, return term-document matrix.\n",
    "X = vectorizer.fit_transform(corpus)\n",
    "X"
   ]
  },
  {
   "cell_type": "code",
   "execution_count": 3,
   "metadata": {},
   "outputs": [
    {
     "name": "stdout",
     "output_type": "stream",
     "text": [
      "<class 'scipy.sparse.csr.csr_matrix'>\n",
      "  (0, 1)\t0.538028969103\n",
      "  (0, 3)\t0.84292634815\n",
      "  (1, 1)\t0.62922751467\n",
      "  (1, 5)\t0.777221162079\n",
      "  (2, 1)\t0.62922751467\n",
      "  (2, 5)\t0.777221162079\n",
      "  (3, 2)\t0.816496580928\n",
      "  (3, 0)\t0.408248290464\n",
      "  (3, 4)\t0.408248290464\n"
     ]
    }
   ],
   "source": [
    "# (文档，特征文本词索引) 权重\n",
    "print(type(X))\n",
    "print(X)"
   ]
  },
  {
   "cell_type": "code",
   "execution_count": 4,
   "metadata": {},
   "outputs": [
    {
     "data": {
      "text/plain": [
       "[array(['北京', '天安门'],\n",
       "       dtype='<U3'), array(['北京', '欢迎'],\n",
       "       dtype='<U3'), array(['北京', '欢迎'],\n",
       "       dtype='<U3'), array(['同一个', '世界', '梦想'],\n",
       "       dtype='<U3')]"
      ]
     },
     "execution_count": 4,
     "metadata": {},
     "output_type": "execute_result"
    }
   ],
   "source": [
    "vectorizer.inverse_transform(X)"
   ]
  },
  {
   "cell_type": "code",
   "execution_count": 5,
   "metadata": {},
   "outputs": [
    {
     "data": {
      "text/plain": [
       "['世界', '北京', '同一个', '天安门', '梦想', '欢迎']"
      ]
     },
     "execution_count": 5,
     "metadata": {},
     "output_type": "execute_result"
    }
   ],
   "source": [
    "# 以list形式返回整个语料库的文本特征\n",
    "feature_names = vectorizer.get_feature_names()\n",
    "feature_names"
   ]
  },
  {
   "cell_type": "code",
   "execution_count": 6,
   "metadata": {},
   "outputs": [
    {
     "name": "stdout",
     "output_type": "stream",
     "text": [
      "[[ 0.          0.53802897  0.          0.84292635  0.          0.        ]\n",
      " [ 0.          0.62922751  0.          0.          0.          0.77722116]\n",
      " [ 0.          0.62922751  0.          0.          0.          0.77722116]\n",
      " [ 0.40824829  0.          0.81649658  0.          0.40824829  0.        ]]\n"
     ]
    }
   ],
   "source": [
    "# 文档-词汇矩阵，行表示文档，列表示特征词，值表示权重\n",
    "print(X.toarray())"
   ]
  },
  {
   "cell_type": "code",
   "execution_count": 7,
   "metadata": {},
   "outputs": [
    {
     "name": "stdout",
     "output_type": "stream",
     "text": [
      "4 6\n"
     ]
    }
   ],
   "source": [
    "doc_item_mat = X.toarray()\n",
    "rows,cols = np.shape(doc_item_mat)\n",
    "print(rows,cols)"
   ]
  },
  {
   "cell_type": "code",
   "execution_count": 8,
   "metadata": {},
   "outputs": [
    {
     "name": "stdout",
     "output_type": "stream",
     "text": [
      "No. 0\n",
      "['天安门', '北京']\n",
      "No. 1\n",
      "['欢迎', '北京']\n",
      "No. 2\n",
      "['欢迎', '北京']\n",
      "No. 3\n",
      "['同一个', '梦想']\n"
     ]
    }
   ],
   "source": [
    "for row_index, row in enumerate(doc_item_mat):\n",
    "    print('No.',row_index)\n",
    "    print([feature_names[i] for i in row.argsort()[:-3:-1]])"
   ]
  },
  {
   "cell_type": "code",
   "execution_count": 9,
   "metadata": {},
   "outputs": [
    {
     "name": "stdout",
     "output_type": "stream",
     "text": [
      "['世界', '北京', '同一个', '天安门', '梦想', '欢迎']\n"
     ]
    },
    {
     "data": {
      "text/plain": [
       "array([[ 0.        ,  0.44809973,  0.        ,  0.70203482,  0.        ,\n",
       "         0.55349232]])"
      ]
     },
     "execution_count": 9,
     "metadata": {},
     "output_type": "execute_result"
    }
   ],
   "source": [
    "print(feature_names)\n",
    "# 用拟合的特征词进行预测\n",
    "fit_opt = vectorizer.fit(corpus)\n",
    "fit_opt.transform(['北京 天安门 欢迎 您']).toarray()"
   ]
  }
 ],
 "metadata": {
  "kernelspec": {
   "display_name": "Python 3",
   "language": "python",
   "name": "python3"
  },
  "language_info": {
   "codemirror_mode": {
    "name": "ipython",
    "version": 3
   },
   "file_extension": ".py",
   "mimetype": "text/x-python",
   "name": "python",
   "nbconvert_exporter": "python",
   "pygments_lexer": "ipython3",
   "version": "3.6.7"
  }
 },
 "nbformat": 4,
 "nbformat_minor": 4
}
