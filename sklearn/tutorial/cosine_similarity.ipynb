{
 "cells": [
  {
   "cell_type": "markdown",
   "metadata": {},
   "source": [
    "### Cosine similarity - 余弦相似性\n",
    "\n",
    "[官方文档](https://scikit-learn.org/stable/modules/generated/sklearn.metrics.pairwise.cosine_similarity.html)\n",
    "\n",
    "[用户手册](https://scikit-learn.org/stable/modules/metrics.html#cosine-similarity)\n",
    "\n",
    "sklearn.metrics.pairwise.cosine_similarity(X, Y=None, dense_output=True)\n",
    "\n",
    "*parameters*\n",
    "\n",
    "- X:ndarray or sparse array, shape: (n_samples_X, n_features)\n",
    "    - input data\n",
    "- Y:ndarray or sparse array, shape: (n_samples_Y, n_features)\n",
    "    - Input data. If None, the output will be the pairwise similarities between all samples in X.\n",
    "- dense_output: boolean (optional), default True\n",
    "    - Whether to return dense output even when the input is sparse. If False, the output is sparse if both input arrays are sparse.\n",
    "    \n",
    "*returns*\n",
    "\n",
    "- An array with shape (n_samples_X, n_samples_Y)."
   ]
  },
  {
   "cell_type": "code",
   "execution_count": 19,
   "metadata": {},
   "outputs": [
    {
     "data": {
      "text/plain": [
       "array([[ 1.]])"
      ]
     },
     "execution_count": 19,
     "metadata": {},
     "output_type": "execute_result"
    }
   ],
   "source": [
    "from sklearn.metrics.pairwise import cosine_similarity\n",
    "import numpy as np\n",
    "\n",
    "X = np.array([[1,2]])\n",
    "Y = np.array([[1,2]])\n",
    "\n",
    "rs = cosine_similarity(X,Y=Y)\n",
    "rs"
   ]
  }
 ],
 "metadata": {
  "kernelspec": {
   "display_name": "Python 3",
   "language": "python",
   "name": "python3"
  },
  "language_info": {
   "codemirror_mode": {
    "name": "ipython",
    "version": 3
   },
   "file_extension": ".py",
   "mimetype": "text/x-python",
   "name": "python",
   "nbconvert_exporter": "python",
   "pygments_lexer": "ipython3",
   "version": "3.6.4"
  }
 },
 "nbformat": 4,
 "nbformat_minor": 4
}
