{
 "cells": [
  {
   "cell_type": "markdown",
   "metadata": {},
   "source": [
    "# manifold_tsne\n",
    "`t-distributed Stochastic Neighbor Embedding`\n",
    "\n",
    "- t-SNE is a tool to visualize high-dimensional data. \n",
    "- t-SNE has a cost function that is not convex, i.e. with different initializations we can get different results.\n",
    "\n",
    "**Note:**\n",
    "It is highly recommended to use another dimensionality reduction method (e.g. PCA for dense data or TruncatedSVD for sparse data) to reduce the number of dimensions to a reasonable amount (e.g. 50) if the number of features is very high. \n",
    "\n",
    "**Parameters:**\n",
    "\n",
    "**n_components** : int, optional (default: 2), Dimension of the embedded space.\n",
    "\n",
    "**learning_rate** : float, optional (default: 1000), The learning rate can be **a critical parameter**. It should be between 100 and 1000. If the cost function increases during initial optimization, the early exaggeration factor or the learning rate might be too high. If the cost function gets stuck in a bad local minimum increasing the learning rate helps sometimes.\n",
    "\n",
    "**Attributes**\n",
    "\n",
    "**embedding_** : array-like, shape (n_samples, n_components), Stores the embedding vectors.\n",
    "\n",
    "**training_data_** : array-like, shape (n_samples, n_features), Stores the training data.\n",
    "\n",
    "**Comparison of Manifold Learning methods**：\n",
    "\n",
    "[官方实例](https://scikit-learn.org/0.15/auto_examples/manifold/plot_compare_methods.html)"
   ]
  },
  {
   "cell_type": "code",
   "execution_count": 4,
   "metadata": {},
   "outputs": [
    {
     "data": {
      "text/plain": [
       "array([[-176.53617859, -352.45974731],\n",
       "       [  38.25886536, -238.08773804],\n",
       "       [ -11.94289303, -402.6890564 ],\n",
       "       [-126.33436584, -187.85810852]], dtype=float32)"
      ]
     },
     "execution_count": 4,
     "metadata": {},
     "output_type": "execute_result"
    }
   ],
   "source": [
    "import numpy as np\n",
    "from sklearn.manifold import TSNE\n",
    "X = np.array([[0, 0, 0], [0, 1, 1], [1, 0, 1], [1, 1, 1]])\n",
    "model = TSNE(n_components=2, random_state=0)\n",
    "result = model.fit_transform(X)\n",
    "result"
   ]
  },
  {
   "cell_type": "code",
   "execution_count": 13,
   "metadata": {},
   "outputs": [
    {
     "name": "stdout",
     "output_type": "stream",
     "text": [
      "[[-176.53617859 -352.45974731]\n",
      " [  38.25886536 -238.08773804]\n",
      " [ -11.94289303 -402.6890564 ]\n",
      " [-126.33436584 -187.85810852]]\n"
     ]
    }
   ],
   "source": [
    "print(model.embedding_)"
   ]
  },
  {
   "cell_type": "code",
   "execution_count": 21,
   "metadata": {},
   "outputs": [
    {
     "ename": "AttributeError",
     "evalue": "'numpy.ndarray' object has no attribute 'training_data_'",
     "output_type": "error",
     "traceback": [
      "\u001b[1;31m---------------------------------------------------------------------------\u001b[0m",
      "\u001b[1;31mAttributeError\u001b[0m                            Traceback (most recent call last)",
      "\u001b[1;32m<ipython-input-21-bd34d4f5744c>\u001b[0m in \u001b[0;36m<module>\u001b[1;34m\u001b[0m\n\u001b[1;32m----> 1\u001b[1;33m \u001b[0mprint\u001b[0m\u001b[1;33m(\u001b[0m\u001b[0mresult\u001b[0m\u001b[1;33m.\u001b[0m\u001b[0mtraining_data_\u001b[0m\u001b[1;33m)\u001b[0m \u001b[1;31m# Error\u001b[0m\u001b[1;33m\u001b[0m\u001b[0m\n\u001b[0m\u001b[0;32m      2\u001b[0m \u001b[0mprint\u001b[0m\u001b[1;33m(\u001b[0m\u001b[0mmodel\u001b[0m\u001b[1;33m.\u001b[0m\u001b[0mtraining_data_\u001b[0m\u001b[1;33m)\u001b[0m \u001b[1;31m# Error\u001b[0m\u001b[1;33m\u001b[0m\u001b[0m\n\u001b[0;32m      3\u001b[0m \u001b[1;31m# 官方文档搞什么。。。\u001b[0m\u001b[1;33m\u001b[0m\u001b[1;33m\u001b[0m\u001b[0m\n",
      "\u001b[1;31mAttributeError\u001b[0m: 'numpy.ndarray' object has no attribute 'training_data_'"
     ]
    }
   ],
   "source": [
    "print(result.training_data_) # Error\n",
    "print(model.training_data_) # Error\n",
    "# 官方文档搞什么。。。"
   ]
  }
 ],
 "metadata": {
  "kernelspec": {
   "display_name": "Python 3",
   "language": "python",
   "name": "python3"
  },
  "language_info": {
   "codemirror_mode": {
    "name": "ipython",
    "version": 3
   },
   "file_extension": ".py",
   "mimetype": "text/x-python",
   "name": "python",
   "nbconvert_exporter": "python",
   "pygments_lexer": "ipython3",
   "version": "3.6.4"
  }
 },
 "nbformat": 4,
 "nbformat_minor": 4
}
