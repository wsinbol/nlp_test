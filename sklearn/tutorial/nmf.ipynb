{
 "cells": [
  {
   "cell_type": "markdown",
   "metadata": {},
   "source": [
    "# 非负矩阵分解(NMF)\n",
    "\n",
    "非负矩阵分解(non-negative matrix factorization，以下简称NMF)是一种非常常用的矩阵分解方法，它可以适用于很多领域，比如图像特征识别，语音识别等。\n",
    "\n",
    "[sklearn](http://scikit-learn.org/stable/modules/generated/sklearn.decomposition.NMF.html)\n",
    "\n",
    "[文本主题模型之非负矩阵分解(NMF)](https://www.cnblogs.com/pinard/p/6812011.html)"
   ]
  },
  {
   "cell_type": "code",
   "execution_count": 1,
   "metadata": {},
   "outputs": [],
   "source": [
    "import numpy as np\n",
    "X = np.array([[1,1,5,2,3], [0,6,2,1,1], [3, 4,0,3,1], [4, 1,5,6,3]])\n",
    "from sklearn.decomposition import NMF\n",
    "model = NMF(n_components=2, alpha=0.01)"
   ]
  },
  {
   "cell_type": "code",
   "execution_count": 3,
   "metadata": {},
   "outputs": [
    {
     "name": "stdout",
     "output_type": "stream",
     "text": [
      "[[1 1 5 2 3]\n",
      " [0 6 2 1 1]\n",
      " [3 4 0 3 1]\n",
      " [4 1 5 6 3]]\n",
      "[[ 1.67371185  0.02013017]\n",
      " [ 0.40564826  2.17004352]\n",
      " [ 0.77627836  1.5179425 ]\n",
      " [ 2.66991709  0.00940262]]\n",
      "[[ 1.32014421  0.40901559  2.10322743  1.99087019  1.29852389]\n",
      " [ 0.25859086  2.59911791  0.00488947  0.37089193  0.14622829]]\n"
     ]
    }
   ],
   "source": [
    "W = model.fit_transform(X)\n",
    "H = model.components_\n",
    "print(X)\n",
    "print(W)\n",
    "print(H)"
   ]
  }
 ],
 "metadata": {
  "kernelspec": {
   "display_name": "Python 3",
   "language": "python",
   "name": "python3"
  },
  "language_info": {
   "codemirror_mode": {
    "name": "ipython",
    "version": 3
   },
   "file_extension": ".py",
   "mimetype": "text/x-python",
   "name": "python",
   "nbconvert_exporter": "python",
   "pygments_lexer": "ipython3",
   "version": "3.6.4"
  }
 },
 "nbformat": 4,
 "nbformat_minor": 4
}
