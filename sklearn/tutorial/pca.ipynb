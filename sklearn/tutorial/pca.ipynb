{
 "cells": [
  {
   "cell_type": "markdown",
   "metadata": {},
   "source": [
    "#### 主成分分析\n",
    "[官方文档](https://scikit-learn.org/stable/modules/generated/sklearn.decomposition.PCA.html)\n",
    "\n",
    "**Parameters**\n",
    "\n",
    "- n_componentsint: float, None or str\n",
    "\n",
    "```\n",
    "Number of components to keep. if n_components is not set all components are kept:\n",
    "\n",
    "n_components == min(n_samples, n_features)\n",
    "If n_components == 'mle' and svd_solver == 'full', Minka’s MLE is used to guess the dimension. Use of n_components == 'mle' will interpret svd_solver == 'auto' as svd_solver == 'full'.\n",
    "\n",
    "If 0 < n_components < 1 and svd_solver == 'full', select the number of components such that the amount of variance that needs to be explained is greater than the percentage specified by n_components.\n",
    "\n",
    "If svd_solver == 'arpack', the number of components must be strictly less than the minimum of n_features and n_samples.\n",
    "\n",
    "Hence, the None case results in:\n",
    "\n",
    "n_components == min(n_samples, n_features) - 1\n",
    "```\n",
    "\n",
    "- svd_solverstr: {‘auto’, ‘full’, ‘arpack’, ‘randomized’}\n",
    "\n",
    "```\n",
    "If auto :\n",
    "The solver is selected by a default policy based on X.shape and n_components: if the input data is larger than 500x500 and the number of components to extract is lower than 80% of the smallest dimension of the data, then the more efficient ‘randomized’ method is enabled. Otherwise the exact full SVD is computed and optionally truncated afterwards.\n",
    "\n",
    "If full :\n",
    "run exact full SVD calling the standard LAPACK solver via scipy.linalg.svd and select the components by postprocessing\n",
    "\n",
    "If arpack :\n",
    "run SVD truncated to n_components calling ARPACK solver via scipy.sparse.linalg.svds. It requires strictly 0 < n_components < min(X.shape)\n",
    "\n",
    "If randomized :\n",
    "run randomized SVD by the method of Halko et al.\n",
    "```\n",
    "\n",
    "**Attributes**\n",
    "\n",
    "- components_\n",
    "- explained_variance_\n",
    "- explained_variance_ratio_\n",
    "- singular_values_\n",
    "- mean_\n",
    "- n_components_\n",
    "- n_features_\n",
    "- n_samples_\n",
    "- noise_variance_\n",
    "\n",
    "**Methods**"
   ]
  },
  {
   "cell_type": "markdown",
   "metadata": {},
   "source": [
    "#### 实例\n",
    "\n",
    "样本数量、特征维度都会进行降维处理！"
   ]
  },
  {
   "cell_type": "code",
   "execution_count": 2,
   "metadata": {},
   "outputs": [
    {
     "name": "stdout",
     "output_type": "stream",
     "text": [
      "[ 0.99244289  0.00755711]\n",
      "[ 6.30061232  0.54980396]\n"
     ]
    }
   ],
   "source": [
    "import numpy as np\n",
    "from sklearn.decomposition import PCA\n",
    "X = np.array([[-1, -1], [-2, -1], [-3, -2], [1, 1], [2, 1], [3, 2]])\n",
    "pca = PCA(n_components=2)\n",
    "pca.fit(X)\n",
    "\n",
    "print(pca.explained_variance_ratio_)\n",
    "\n",
    "print(pca.singular_values_)"
   ]
  }
 ],
 "metadata": {
  "kernelspec": {
   "display_name": "Python 3",
   "language": "python",
   "name": "python3"
  },
  "language_info": {
   "codemirror_mode": {
    "name": "ipython",
    "version": 3
   },
   "file_extension": ".py",
   "mimetype": "text/x-python",
   "name": "python",
   "nbconvert_exporter": "python",
   "pygments_lexer": "ipython3",
   "version": "3.6.4"
  }
 },
 "nbformat": 4,
 "nbformat_minor": 4
}
