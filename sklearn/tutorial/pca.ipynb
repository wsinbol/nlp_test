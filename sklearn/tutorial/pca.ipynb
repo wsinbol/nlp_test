{
 "cells": [
  {
   "cell_type": "markdown",
   "metadata": {},
   "source": [
    "#### 主成分分析\n",
    "\n",
    "[官方文档](https://scikit-learn.org/stable/modules/generated/sklearn.decomposition.PCA.html)\n",
    "\n",
    "[刘建平Pinard 主成分分析（PCA）原理总结](https://www.cnblogs.com/pinard/p/6239403.html)\n",
    "\n",
    "[刘建平Pinard 用scikit-learn学习主成分分析(PCA)](https://www.cnblogs.com/pinard/p/6243025.html)\n",
    "\n",
    "PCA算法的主要优点有：\n",
    "\n",
    "　　　　1）仅仅需要以方差衡量信息量，不受数据集以外的因素影响。　\n",
    "\n",
    "　　　　2）各主成分之间正交，可消除原始数据成分间的相互影响的因素。\n",
    "\n",
    "　　　　3）计算方法简单，主要运算是特征值分解，易于实现。\n",
    "    \n",
    "PCA算法的主要缺点有：\n",
    "\n",
    "　　　　1）主成分各个特征维度的含义具有一定的模糊性，不如原始样本特征的解释性强。\n",
    "\n",
    "　　　　2）方差小的非主成分也可能含有对样本差异的重要信息，因降维丢弃可能对后续数据处理有影响。\n",
    "    \n",
    "> 在scikit-learn中，与PCA相关的类都在sklearn.decomposition包中。最常用的PCA类就是sklearn.decomposition.PCA。除了PCA类以外，最常用的PCA相关类还有KernelPCA类，在原理篇我们也讲到了，它主要用于非线性数据的降维，需要用到核技巧。另外一个常用的PCA相关类是IncrementalPCA类，它主要是为了解决单机内存限制的。有时候我们的样本量可能是上百万+，维度可能也是上千，直接去拟合数据可能会让内存爆掉， 此时我们可以用IncrementalPCA类来解决这个问题。IncrementalPCA先将数据分成多个batch，然后对每个batch依次递增调用partial_fit函数，这样一步步的得到最终的样本最优降维。\n",
    "\n",
    "**Parameters**\n",
    "\n",
    "- n_componentsint: float, None or str\n",
    "\n",
    "```\n",
    "Number of components to keep. if n_components is not set all components are kept:\n",
    "\n",
    "n_components == min(n_samples, n_features)\n",
    "If n_components == 'mle' and svd_solver == 'full', Minka’s MLE is used to guess the dimension. Use of n_components == 'mle' will interpret svd_solver == 'auto' as svd_solver == 'full'.\n",
    "\n",
    "If 0 < n_components < 1 and svd_solver == 'full', select the number of components such that the amount of variance that needs to be explained is greater than the percentage specified by n_components.\n",
    "\n",
    "If svd_solver == 'arpack', the number of components must be strictly less than the minimum of n_features and n_samples.\n",
    "\n",
    "Hence, the None case results in:\n",
    "\n",
    "n_components == min(n_samples, n_features) - 1\n",
    "```\n",
    "\n",
    "- svd_solverstr: {‘auto’, ‘full’, ‘arpack’, ‘randomized’}\n",
    "\n",
    "```\n",
    "If auto :\n",
    "The solver is selected by a default policy based on X.shape and n_components: if the input data is larger than 500x500 and the number of components to extract is lower than 80% of the smallest dimension of the data, then the more efficient ‘randomized’ method is enabled. Otherwise the exact full SVD is computed and optionally truncated afterwards.\n",
    "\n",
    "If full :\n",
    "run exact full SVD calling the standard LAPACK solver via scipy.linalg.svd and select the components by postprocessing\n",
    "\n",
    "If arpack :\n",
    "run SVD truncated to n_components calling ARPACK solver via scipy.sparse.linalg.svds. It requires strictly 0 < n_components < min(X.shape)\n",
    "\n",
    "If randomized :\n",
    "run randomized SVD by the method of Halko et al.\n",
    "```\n",
    "\n",
    "**Attributes**\n",
    "\n",
    "- components_\n",
    "- explained_variance_\n",
    "- explained_variance_ratio_\n",
    "- singular_values_\n",
    "- mean_\n",
    "- n_components_\n",
    "- n_features_\n",
    "- n_samples_\n",
    "- noise_variance_\n",
    "\n",
    "**Methods**"
   ]
  },
  {
   "cell_type": "markdown",
   "metadata": {},
   "source": [
    "#### 实例\n",
    "\n",
    "样本数量、特征维度都会进行降维处理！"
   ]
  },
  {
   "cell_type": "code",
   "execution_count": 4,
   "metadata": {},
   "outputs": [
    {
     "name": "stdout",
     "output_type": "stream",
     "text": [
      "各主成分的方差值占总方差值的比例 [ 0.99244289  0.00755711]\n",
      "各主成分的方差值 [ 7.93954312  0.06045688]\n",
      "[ 6.30061232  0.54980396]\n"
     ]
    }
   ],
   "source": [
    "import numpy as np\n",
    "from sklearn.decomposition import PCA\n",
    "X = np.array([[-1, -1], [-2, -1], [-3, -2], [1, 1], [2, 1], [3, 2]])\n",
    "pca = PCA(n_components=2)\n",
    "pca.fit(X)\n",
    "\n",
    "\n",
    "# explained_variance_ratio_，它代表降维后的各主成分的方差值占总方差值的比例，这个比例越大，则越是重要的主成分。\n",
    "print('各主成分的方差值占总方差值的比例',pca.explained_variance_ratio_)\n",
    "# explained_variance_，它代表降维后的各主成分的方差值。方差值越大，则说明越是重要的主成分。\n",
    "print('各主成分的方差值',pca.explained_variance_)\n",
    "print(pca.singular_values_)"
   ]
  },
  {
   "cell_type": "code",
   "execution_count": 6,
   "metadata": {},
   "outputs": [
    {
     "name": "stdout",
     "output_type": "stream",
     "text": [
      "[ 0.99244289]\n",
      "[ 7.93954312]\n",
      "1\n"
     ]
    }
   ],
   "source": [
    "pca = PCA(n_components='mle')\n",
    "pca.fit(X)\n",
    "print(pca.explained_variance_ratio_)\n",
    "print(pca.explained_variance_)\n",
    "print(pca.n_components_)"
   ]
  }
 ],
 "metadata": {
  "kernelspec": {
   "display_name": "Python 3",
   "language": "python",
   "name": "python3"
  },
  "language_info": {
   "codemirror_mode": {
    "name": "ipython",
    "version": 3
   },
   "file_extension": ".py",
   "mimetype": "text/x-python",
   "name": "python",
   "nbconvert_exporter": "python",
   "pygments_lexer": "ipython3",
   "version": "3.6.4"
  }
 },
 "nbformat": 4,
 "nbformat_minor": 4
}
