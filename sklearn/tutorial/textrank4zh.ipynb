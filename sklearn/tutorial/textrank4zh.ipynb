{
 "cells": [
  {
   "cell_type": "code",
   "execution_count": 2,
   "metadata": {},
   "outputs": [
    {
     "name": "stdout",
     "output_type": "stream",
     "text": [
      "关键词：\n",
      "开拓者 0.06174062759506478\n",
      "防守 0.049820416417919816\n",
      "上半场 0.04168476178075541\n",
      "半场 0.040035561810594776\n",
      "首节 0.039344788813727744\n",
      "怀 0.03781271352131461\n",
      "特塞德 0.03759760816597008\n",
      "安东尼 0.036057556979024866\n",
      "领先 0.03134646039840859\n",
      "助攻 0.030173016837956052\n",
      "两位数 0.029197708093649806\n",
      "感谢 0.028691493861477756\n",
      "取得 0.027672566215930686\n",
      "分差 0.02743484224965706\n",
      "缩小 0.02743484224965706\n",
      "篮板 0.02743484224965706\n",
      "送出 0.02743484224965706\n",
      "付出 0.02743484224965706\n",
      "贡献 0.02743484224965706\n",
      "时刻 0.02743484224965706\n",
      "\n",
      "关键短语：\n",
      "怀特塞德\n"
     ]
    }
   ],
   "source": [
    "from textrank4zh import TextRank4Keyword, TextRank4Sentence\n",
    "\n",
    "text = '利拉德在首节拿到16分和5次助攻，带领开拓者在首节就取得两位数的领先优势；但是上半场开拓者的防守不好，让勇士在上半场轰下66分，并在半场结束时将分差缩小到1分。然而下半场开拓者的防守强度有了明显的提升，这得感谢怀特塞德和安东尼，全场比赛怀特塞德抢到23个篮板并送出2个盖帽；而安东尼也在防守端积极付出，不仅贡献了2个盖帽，还在比赛最后时刻完成一次抢断。'\n",
    "tr4w = TextRank4Keyword()\n",
    "tr4w.analyze(text=text, lower=True, window=2)\n",
    "print( '关键词：' )\n",
    "for item in tr4w.get_keywords(20, word_min_len=1):\n",
    "    print(item.word, item.weight)\n",
    "    \n",
    "print()\n",
    "print( '关键短语：' )\n",
    "for phrase in tr4w.get_keyphrases(keywords_num=20, min_occur_num= 2):\n",
    "    print(phrase)"
   ]
  },
  {
   "cell_type": "code",
   "execution_count": 3,
   "metadata": {},
   "outputs": [
    {
     "name": "stdout",
     "output_type": "stream",
     "text": [
      "\n",
      "摘要：\n",
      "2 0.2959202501352909 然而下半场开拓者的防守强度有了明显的提升，这得感谢怀特塞德和安东尼，全场比赛怀特塞德抢到23个篮板并送出2个盖帽\n",
      "3 0.24359711672897763 而安东尼也在防守端积极付出，不仅贡献了2个盖帽，还在比赛最后时刻完成一次抢断\n",
      "1 0.23136247840406435 但是上半场开拓者的防守不好，让勇士在上半场轰下66分，并在半场结束时将分差缩小到1分\n"
     ]
    }
   ],
   "source": [
    "tr4s = TextRank4Sentence()\n",
    "tr4s.analyze(text=text, lower=True, source = 'all_filters')\n",
    "\n",
    "print()\n",
    "print( '摘要：' )\n",
    "for item in tr4s.get_key_sentences(num=3):\n",
    "    print(item.index, item.weight, item.sentence)  # index是语句在文本中位置，weight是权重"
   ]
  }
 ],
 "metadata": {
  "kernelspec": {
   "display_name": "Python 3",
   "language": "python",
   "name": "python3"
  },
  "language_info": {
   "codemirror_mode": {
    "name": "ipython",
    "version": 3
   },
   "file_extension": ".py",
   "mimetype": "text/x-python",
   "name": "python",
   "nbconvert_exporter": "python",
   "pygments_lexer": "ipython3",
   "version": "3.6.4"
  }
 },
 "nbformat": 4,
 "nbformat_minor": 4
}
