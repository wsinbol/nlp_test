{
 "cells": [
  {
   "cell_type": "code",
   "execution_count": null,
   "metadata": {},
   "outputs": [],
   "source": [
    "import pandas as pd\n",
    "import jieba\n",
    "\n",
    "df = pd.read_csv('./weibo_text_score.csv', header=0)\n",
    "corpus = df['content'].values\n",
    "\n",
    "stop_words = set()\n",
    "with open('stopwords_cn.txt',encoding='utf-8') as rf:\n",
    "    for line in rf:\n",
    "        stop_words.add(line.strip())"
   ]
  },
  {
   "cell_type": "code",
   "execution_count": null,
   "metadata": {},
   "outputs": [],
   "source": [
    "pos_words = []\n",
    "with open('sentiment_words_cn.txt', encoding='utf-8') as rf:\n",
    "\tfor line in rf.readlines():\n",
    "\t\tword, score = line.strip().split(' ')\n",
    "\t\tif float(score) > 0:\n",
    "\t\t\tpos_words.append(word)"
   ]
  },
  {
   "cell_type": "code",
   "execution_count": null,
   "metadata": {},
   "outputs": [],
   "source": [
    "word_corpus = []\n",
    "for text in corpus:\n",
    "    word_corpus.append(\" \".join([word for word in jieba.lcut(text) if len(word) > 1 and \\\n",
    "                                 str(word).isalpha() and word not in stop_words and word in pos_words]))\n",
    "word_corpus"
   ]
  },
  {
   "cell_type": "code",
   "execution_count": null,
   "metadata": {},
   "outputs": [],
   "source": [
    "from sklearn.feature_extraction.text import TfidfVectorizer\n",
    "import numpy as np\n",
    "vectorizer = TfidfVectorizer()\n",
    "X = vectorizer.fit_transform(word_corpus)\n",
    "feature_names = vectorizer.get_feature_names()\n",
    "# feature_names\n",
    "print(X)\n",
    "\n",
    "'''\n",
    "doc_item_mat = X.toarray()\n",
    "rows,cols = np.shape(doc_item_mat)\n",
    "for row_index, row in enumerate(doc_item_mat):\n",
    "    print('No.',row_index)\n",
    "    print([feature_names[i] for i in row.argsort()[:-10:-1]])\n",
    "'''"
   ]
  },
  {
   "cell_type": "code",
   "execution_count": null,
   "metadata": {},
   "outputs": [],
   "source": [
    "from sklearn.feature_extraction.text import CountVectorizer\n",
    "from scipy import sparse\n",
    "vectorizer = CountVectorizer()\n",
    "X = vectorizer.fit_transform(word_corpus)\n",
    "word = vectorizer.get_feature_names()\n",
    "count = np.sum(X.toarray(), axis=0)\n",
    "# print(len(count))\n",
    "combine_dict = dict()\n",
    "combile = zip(word, count)\n",
    "\n",
    "combine_dict = {word:count for word,count in combile}\n",
    "print(combine_dict)\n",
    "# combine_dict = sorted(combine_dict.items(), key=lambda x:x[1], reverse=True)\n",
    "# print(combine_dict)"
   ]
  },
  {
   "cell_type": "code",
   "execution_count": null,
   "metadata": {},
   "outputs": [],
   "source": [
    "from wordcloud import WordCloud\n",
    "import matplotlib.pyplot as plt\n",
    "font = r'C:\\Windows\\Fonts\\simfang.ttf'\n",
    "wc = WordCloud(background_color=\"white\", max_words=10000,font_path=font,width=1400, height=1400)\n",
    "wc.generate_from_frequencies(combine_dict)\n",
    "plt.imshow(wc, interpolation=\"bilinear\")\n",
    "plt.axis(\"off\")\n",
    "plt.show()"
   ]
  }
 ],
 "metadata": {
  "kernelspec": {
   "display_name": "Python 3",
   "language": "python",
   "name": "python3"
  },
  "language_info": {
   "codemirror_mode": {
    "name": "ipython",
    "version": 3
   },
   "file_extension": ".py",
   "mimetype": "text/x-python",
   "name": "python",
   "nbconvert_exporter": "python",
   "pygments_lexer": "ipython3",
   "version": "3.6.7"
  }
 },
 "nbformat": 4,
 "nbformat_minor": 4
}
